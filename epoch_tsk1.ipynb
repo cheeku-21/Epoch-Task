{
 "cells": [
  {
   "cell_type": "code",
   "execution_count": 15,
   "metadata": {},
   "outputs": [],
   "source": [
    "import numpy as np\n",
    "import pandas as pd"
   ]
  },
  {
   "cell_type": "code",
   "execution_count": 16,
   "metadata": {},
   "outputs": [
    {
     "name": "stderr",
     "output_type": "stream",
     "text": [
      "C:\\Users\\Sudha\\AppData\\Local\\Temp\\ipykernel_11392\\2177475059.py:1: DtypeWarning: Columns (9) have mixed types. Specify dtype option on import or set low_memory=False.\n",
      "  df = pd.read_csv(\"C:\\\\Users\\\\Sudha\\\\Downloads\\\\clustering_data.csv\")\n"
     ]
    },
    {
     "data": {
      "text/html": [
       "<div>\n",
       "<style scoped>\n",
       "    .dataframe tbody tr th:only-of-type {\n",
       "        vertical-align: middle;\n",
       "    }\n",
       "\n",
       "    .dataframe tbody tr th {\n",
       "        vertical-align: top;\n",
       "    }\n",
       "\n",
       "    .dataframe thead th {\n",
       "        text-align: right;\n",
       "    }\n",
       "</style>\n",
       "<table border=\"1\" class=\"dataframe\">\n",
       "  <thead>\n",
       "    <tr style=\"text-align: right;\">\n",
       "      <th></th>\n",
       "      <th>CircleName</th>\n",
       "      <th>RegionName</th>\n",
       "      <th>DivisionName</th>\n",
       "      <th>OfficeName</th>\n",
       "      <th>Pincode</th>\n",
       "      <th>OfficeType</th>\n",
       "      <th>Delivery</th>\n",
       "      <th>District</th>\n",
       "      <th>StateName</th>\n",
       "      <th>Latitude</th>\n",
       "      <th>Longitude</th>\n",
       "    </tr>\n",
       "  </thead>\n",
       "  <tbody>\n",
       "    <tr>\n",
       "      <th>0</th>\n",
       "      <td>Andhra Pradesh Circle</td>\n",
       "      <td>Kurnool Region</td>\n",
       "      <td>Hindupur Division</td>\n",
       "      <td>Peddakotla B.O</td>\n",
       "      <td>515631</td>\n",
       "      <td>BO</td>\n",
       "      <td>Delivery</td>\n",
       "      <td>ANANTAPUR</td>\n",
       "      <td>ANDHRA PRADESH</td>\n",
       "      <td>14.5689</td>\n",
       "      <td>77.85624</td>\n",
       "    </tr>\n",
       "    <tr>\n",
       "      <th>1</th>\n",
       "      <td>Andhra Pradesh Circle</td>\n",
       "      <td>Kurnool Region</td>\n",
       "      <td>Hindupur Division</td>\n",
       "      <td>Pinnadhari B.O</td>\n",
       "      <td>515631</td>\n",
       "      <td>BO</td>\n",
       "      <td>Delivery</td>\n",
       "      <td>ANANTAPUR</td>\n",
       "      <td>ANDHRA PRADESH</td>\n",
       "      <td>14.5281</td>\n",
       "      <td>77.857014</td>\n",
       "    </tr>\n",
       "    <tr>\n",
       "      <th>2</th>\n",
       "      <td>Andhra Pradesh Circle</td>\n",
       "      <td>Kurnool Region</td>\n",
       "      <td>Hindupur Division</td>\n",
       "      <td>Yerraguntapalle B.O</td>\n",
       "      <td>515631</td>\n",
       "      <td>BO</td>\n",
       "      <td>Delivery</td>\n",
       "      <td>ANANTAPUR</td>\n",
       "      <td>ANDHRA PRADESH</td>\n",
       "      <td>14.561111</td>\n",
       "      <td>77.85715</td>\n",
       "    </tr>\n",
       "    <tr>\n",
       "      <th>3</th>\n",
       "      <td>Andhra Pradesh Circle</td>\n",
       "      <td>Kurnool Region</td>\n",
       "      <td>Hindupur Division</td>\n",
       "      <td>Obulareddipalli B.O</td>\n",
       "      <td>515581</td>\n",
       "      <td>BO</td>\n",
       "      <td>Delivery</td>\n",
       "      <td>ANANTAPUR</td>\n",
       "      <td>ANDHRA PRADESH</td>\n",
       "      <td>14.2488</td>\n",
       "      <td>78.2588</td>\n",
       "    </tr>\n",
       "    <tr>\n",
       "      <th>4</th>\n",
       "      <td>Andhra Pradesh Circle</td>\n",
       "      <td>Kurnool Region</td>\n",
       "      <td>Hindupur Division</td>\n",
       "      <td>Odulapalli B.O</td>\n",
       "      <td>515581</td>\n",
       "      <td>BO</td>\n",
       "      <td>Delivery</td>\n",
       "      <td>ANANTAPUR</td>\n",
       "      <td>ANDHRA PRADESH</td>\n",
       "      <td>14.24555</td>\n",
       "      <td>78.2477</td>\n",
       "    </tr>\n",
       "  </tbody>\n",
       "</table>\n",
       "</div>"
      ],
      "text/plain": [
       "              CircleName      RegionName       DivisionName  \\\n",
       "0  Andhra Pradesh Circle  Kurnool Region  Hindupur Division   \n",
       "1  Andhra Pradesh Circle  Kurnool Region  Hindupur Division   \n",
       "2  Andhra Pradesh Circle  Kurnool Region  Hindupur Division   \n",
       "3  Andhra Pradesh Circle  Kurnool Region  Hindupur Division   \n",
       "4  Andhra Pradesh Circle  Kurnool Region  Hindupur Division   \n",
       "\n",
       "            OfficeName  Pincode OfficeType  Delivery   District  \\\n",
       "0       Peddakotla B.O   515631         BO  Delivery  ANANTAPUR   \n",
       "1       Pinnadhari B.O   515631         BO  Delivery  ANANTAPUR   \n",
       "2  Yerraguntapalle B.O   515631         BO  Delivery  ANANTAPUR   \n",
       "3  Obulareddipalli B.O   515581         BO  Delivery  ANANTAPUR   \n",
       "4       Odulapalli B.O   515581         BO  Delivery  ANANTAPUR   \n",
       "\n",
       "        StateName   Latitude  Longitude  \n",
       "0  ANDHRA PRADESH    14.5689   77.85624  \n",
       "1  ANDHRA PRADESH    14.5281  77.857014  \n",
       "2  ANDHRA PRADESH  14.561111   77.85715  \n",
       "3  ANDHRA PRADESH    14.2488    78.2588  \n",
       "4  ANDHRA PRADESH   14.24555    78.2477  "
      ]
     },
     "execution_count": 16,
     "metadata": {},
     "output_type": "execute_result"
    }
   ],
   "source": [
    "df = pd.read_csv(\"C:\\\\Users\\\\Sudha\\\\Downloads\\\\clustering_data.csv\")\n",
    "df.head()"
   ]
  },
  {
   "cell_type": "code",
   "execution_count": 17,
   "metadata": {},
   "outputs": [],
   "source": [
    "df['Latitude'] = pd.to_numeric(df['Latitude'], errors='coerce')\n",
    "df['Longitude'] = pd.to_numeric(df['Longitude'], errors='coerce')\n",
    "\n",
    "# Drop any rows with NaN values if they exist\n",
    "df = df.dropna(subset=['Latitude', 'Longitude'])"
   ]
  },
  {
   "cell_type": "code",
   "execution_count": 18,
   "metadata": {},
   "outputs": [
    {
     "data": {
      "text/html": [
       "<div>\n",
       "<style scoped>\n",
       "    .dataframe tbody tr th:only-of-type {\n",
       "        vertical-align: middle;\n",
       "    }\n",
       "\n",
       "    .dataframe tbody tr th {\n",
       "        vertical-align: top;\n",
       "    }\n",
       "\n",
       "    .dataframe thead th {\n",
       "        text-align: right;\n",
       "    }\n",
       "</style>\n",
       "<table border=\"1\" class=\"dataframe\">\n",
       "  <thead>\n",
       "    <tr style=\"text-align: right;\">\n",
       "      <th></th>\n",
       "      <th>CircleName</th>\n",
       "      <th>RegionName</th>\n",
       "      <th>DivisionName</th>\n",
       "      <th>OfficeName</th>\n",
       "      <th>Pincode</th>\n",
       "      <th>OfficeType</th>\n",
       "      <th>Delivery</th>\n",
       "      <th>District</th>\n",
       "      <th>StateName</th>\n",
       "      <th>Latitude</th>\n",
       "      <th>Longitude</th>\n",
       "    </tr>\n",
       "  </thead>\n",
       "  <tbody>\n",
       "    <tr>\n",
       "      <th>33</th>\n",
       "      <td>Bihar Circle</td>\n",
       "      <td>East Region, Bhagalpur</td>\n",
       "      <td>Bhagalpur Division</td>\n",
       "      <td>Kathrang BO</td>\n",
       "      <td>813105</td>\n",
       "      <td>BO</td>\n",
       "      <td>Delivery</td>\n",
       "      <td>BANKA</td>\n",
       "      <td>BIHAR</td>\n",
       "      <td>84.527000</td>\n",
       "      <td>24.239000</td>\n",
       "    </tr>\n",
       "    <tr>\n",
       "      <th>34</th>\n",
       "      <td>Bihar Circle</td>\n",
       "      <td>East Region, Bhagalpur</td>\n",
       "      <td>Bhagalpur Division</td>\n",
       "      <td>Mohiuddivpur BO</td>\n",
       "      <td>813105</td>\n",
       "      <td>BO</td>\n",
       "      <td>Delivery</td>\n",
       "      <td>BHAGALPUR</td>\n",
       "      <td>BIHAR</td>\n",
       "      <td>84.529000</td>\n",
       "      <td>24.235400</td>\n",
       "    </tr>\n",
       "    <tr>\n",
       "      <th>35</th>\n",
       "      <td>Bihar Circle</td>\n",
       "      <td>East Region, Bhagalpur</td>\n",
       "      <td>Bhagalpur Division</td>\n",
       "      <td>Sanjha BO</td>\n",
       "      <td>813105</td>\n",
       "      <td>BO</td>\n",
       "      <td>Delivery</td>\n",
       "      <td>BANKA</td>\n",
       "      <td>BIHAR</td>\n",
       "      <td>84.523670</td>\n",
       "      <td>24.236500</td>\n",
       "    </tr>\n",
       "    <tr>\n",
       "      <th>36</th>\n",
       "      <td>Bihar Circle</td>\n",
       "      <td>East Region, Bhagalpur</td>\n",
       "      <td>Bhagalpur Division</td>\n",
       "      <td>Singhnan BO</td>\n",
       "      <td>813105</td>\n",
       "      <td>BO</td>\n",
       "      <td>Delivery</td>\n",
       "      <td>BANKA</td>\n",
       "      <td>BIHAR</td>\n",
       "      <td>84.535000</td>\n",
       "      <td>24.223600</td>\n",
       "    </tr>\n",
       "    <tr>\n",
       "      <th>37</th>\n",
       "      <td>Bihar Circle</td>\n",
       "      <td>East Region, Bhagalpur</td>\n",
       "      <td>Bhagalpur Division</td>\n",
       "      <td>Kasri BO</td>\n",
       "      <td>813203</td>\n",
       "      <td>BO</td>\n",
       "      <td>Delivery</td>\n",
       "      <td>BHAGALPUR</td>\n",
       "      <td>BIHAR</td>\n",
       "      <td>87.262885</td>\n",
       "      <td>25.298763</td>\n",
       "    </tr>\n",
       "  </tbody>\n",
       "</table>\n",
       "</div>"
      ],
      "text/plain": [
       "      CircleName              RegionName        DivisionName       OfficeName  \\\n",
       "33  Bihar Circle  East Region, Bhagalpur  Bhagalpur Division      Kathrang BO   \n",
       "34  Bihar Circle  East Region, Bhagalpur  Bhagalpur Division  Mohiuddivpur BO   \n",
       "35  Bihar Circle  East Region, Bhagalpur  Bhagalpur Division        Sanjha BO   \n",
       "36  Bihar Circle  East Region, Bhagalpur  Bhagalpur Division      Singhnan BO   \n",
       "37  Bihar Circle  East Region, Bhagalpur  Bhagalpur Division         Kasri BO   \n",
       "\n",
       "    Pincode OfficeType  Delivery   District StateName   Latitude  Longitude  \n",
       "33   813105         BO  Delivery      BANKA     BIHAR  84.527000  24.239000  \n",
       "34   813105         BO  Delivery  BHAGALPUR     BIHAR  84.529000  24.235400  \n",
       "35   813105         BO  Delivery      BANKA     BIHAR  84.523670  24.236500  \n",
       "36   813105         BO  Delivery      BANKA     BIHAR  84.535000  24.223600  \n",
       "37   813203         BO  Delivery  BHAGALPUR     BIHAR  87.262885  25.298763  "
      ]
     },
     "execution_count": 18,
     "metadata": {},
     "output_type": "execute_result"
    }
   ],
   "source": [
    "filtered_df = df[df['CircleName'].str.contains('Bihar', case=False)]\n",
    "filtered_df.head()"
   ]
  },
  {
   "cell_type": "code",
   "execution_count": 19,
   "metadata": {},
   "outputs": [
    {
     "name": "stdout",
     "output_type": "stream",
     "text": [
      "Number of rows: 9066\n",
      "Number of columns: 11\n"
     ]
    }
   ],
   "source": [
    "num_rows, num_cols = filtered_df.shape\n",
    "print(f\"Number of rows: {num_rows}\")\n",
    "print(f\"Number of columns: {num_cols}\")"
   ]
  },
  {
   "cell_type": "code",
   "execution_count": 20,
   "metadata": {},
   "outputs": [
    {
     "name": "stdout",
     "output_type": "stream",
     "text": [
      "float64\n",
      "float64\n"
     ]
    }
   ],
   "source": [
    "print(filtered_df['Latitude'].dtype)\n",
    "print(filtered_df['Longitude'].dtype)"
   ]
  },
  {
   "cell_type": "code",
   "execution_count": 21,
   "metadata": {},
   "outputs": [],
   "source": [
    "import matplotlib.pyplot as plt"
   ]
  },
  {
   "cell_type": "code",
   "execution_count": 22,
   "metadata": {},
   "outputs": [
    {
     "data": {
      "image/png": "[encoded data removed]",
      "text/plain": [
       "<Figure size 640x480 with 1 Axes>"
      ]
     },
     "metadata": {},
     "output_type": "display_data"
    }
   ],
   "source": [
    "x_axis = filtered_df['Latitude']\n",
    "y_axis = filtered_df['Longitude']\n",
    "plt.scatter(x_axis,y_axis, marker='o', color='purple', alpha=0.5)\n",
    "plt.title('Scatter Plot of Latitude vs Longitude')  \n",
    "plt.xlabel('Latitude')  \n",
    "plt.ylabel('Longitude')\n",
    "plt.grid(True) \n",
    "plt.show()"
   ]
  },
  {
   "cell_type": "code",
   "execution_count": 23,
   "metadata": {},
   "outputs": [],
   "source": [
    "def initialize_centroids(data, k):\n",
    "    \"\"\" Initialize centroids by randomly selecting k data points as centroids. \"\"\"\n",
    "    np.random.seed(0)\n",
    "    centroids_idx = np.random.choice(data.shape[0], size=k, replace=False)\n",
    "    centroids = data[centroids_idx]\n",
    "    return centroids"
   ]
  },
  {
   "cell_type": "code",
   "execution_count": 24,
   "metadata": {},
   "outputs": [],
   "source": [
    "def assign_to_clusters(data, centroids):\n",
    "    \"\"\" Assign each data point to the closest centroid. \"\"\"\n",
    "    distances = np.sqrt(((data - centroids[:, np.newaxis])**2).sum(axis=2))\n",
    "    clusters = np.argmin(distances, axis=0)\n",
    "    return clusters"
   ]
  },
  {
   "cell_type": "code",
   "execution_count": 25,
   "metadata": {},
   "outputs": [],
   "source": [
    "def update_centroids(data, clusters, k):\n",
    "    \"\"\" Update centroids based on the mean of data points assigned to each cluster. \"\"\"\n",
    "    centroids = np.zeros((k, data.shape[1]))\n",
    "    for i in range(k):\n",
    "        centroids[i] = np.mean(data[clusters == i], axis=0)\n",
    "    return centroids"
   ]
  },
  {
   "cell_type": "code",
   "execution_count": 26,
   "metadata": {},
   "outputs": [],
   "source": [
    "def kmeans(data, k, max_iterations=100):\n",
    "    \"\"\" Perform k-means clustering on the given data with k clusters. \"\"\"\n",
    "    centroids = initialize_centroids(data, k)\n",
    "    for _ in range(max_iterations):\n",
    "        clusters = assign_to_clusters(data, centroids)\n",
    "        new_centroids = update_centroids(data, clusters, k)\n",
    "        # Check for convergence\n",
    "        if np.allclose(centroids, new_centroids):\n",
    "            break\n",
    "        centroids = new_centroids\n",
    "    return clusters, centroids"
   ]
  },
  {
   "cell_type": "code",
   "execution_count": 27,
   "metadata": {},
   "outputs": [
    {
     "name": "stderr",
     "output_type": "stream",
     "text": [
      "C:\\Users\\Sudha\\AppData\\Local\\Temp\\ipykernel_11392\\1254151770.py:9: SettingWithCopyWarning: \n",
      "A value is trying to be set on a copy of a slice from a DataFrame.\n",
      "Try using .loc[row_indexer,col_indexer] = value instead\n",
      "\n",
      "See the caveats in the documentation: https://pandas.pydata.org/pandas-docs/stable/user_guide/indexing.html#returning-a-view-versus-a-copy\n",
      "  filtered_df['Cluster'] = clusters\n"
     ]
    }
   ],
   "source": [
    "# Extract latitude and longitude values\n",
    "data = filtered_df[['Latitude', 'Longitude']].values\n",
    "\n",
    "# Number of clusters\n",
    "k = 2\n",
    "\n",
    "# Perform k-means clustering\n",
    "clusters, centroids = kmeans(data, k, max_iterations=300)\n",
    "filtered_df['Cluster'] = clusters"
   ]
  },
  {
   "cell_type": "code",
   "execution_count": 28,
   "metadata": {},
   "outputs": [
    {
     "data": {
      "image/png": "[encoded data removed]",
      "text/plain": [
       "<Figure size 1000x800 with 1 Axes>"
      ]
     },
     "metadata": {},
     "output_type": "display_data"
    }
   ],
   "source": [
    "plt.figure(figsize=(10, 8))\n",
    "plt.scatter(filtered_df['Latitude'], filtered_df['Longitude'], c=filtered_df['Cluster'], cmap='viridis', marker='o', alpha=0.6, label='Data Points')\n",
    "plt.scatter(centroids[:, 0], centroids[:, 1], c='red', marker='x', s=100, label='Centroids')\n",
    "plt.title('K-Means Clustering of Pin Codes')\n",
    "plt.xlabel('Latitude')\n",
    "plt.ylabel('Longitude')\n",
    "plt.legend()\n",
    "plt.grid(True)\n",
    "plt.show()"
   ]
  },
  {
   "cell_type": "code",
   "execution_count": 29,
   "metadata": {},
   "outputs": [
    {
     "name": "stdout",
     "output_type": "stream",
     "text": [
      "Cluster 0:\n",
      "Number of Points: 738\n",
      "Centroid: [84.66054259 25.13992605]\n",
      "Cluster 1:\n",
      "Number of Points: 8328\n",
      "Centroid: [25.54747089 85.1265803 ]\n"
     ]
    }
   ],
   "source": [
    "for cluster_id in range(k):\n",
    "    cluster_points = filtered_df[filtered_df['Cluster'] == cluster_id]\n",
    "    print(f\"Cluster {cluster_id}:\")\n",
    "    print(f\"Number of Points: {len(cluster_points)}\")\n",
    "    print(f\"Centroid: {centroids[cluster_id]}\")"
   ]
  }
 ],
 "metadata": {
  "kernelspec": {
   "display_name": "Python 3",
   "language": "python",
   "name": "python3"
  },
  "language_info": {
   "codemirror_mode": {
    "name": "ipython",
    "version": 3
   },
   "file_extension": ".py",
   "mimetype": "text/x-python",
   "name": "python",
   "nbconvert_exporter": "python",
   "pygments_lexer": "ipython3",
   "version": "3.11.3"
  }
 },
 "nbformat": 4,
 "nbformat_minor": 2
}
